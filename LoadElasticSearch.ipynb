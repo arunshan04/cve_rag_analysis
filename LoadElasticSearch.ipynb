{
 "cells": [
  {
   "cell_type": "code",
   "execution_count": 2,
   "id": "2620f7a0-7413-48ce-95be-da880eb9ee7b",
   "metadata": {},
   "outputs": [
    {
     "name": "stdout",
     "output_type": "stream",
     "text": [
      "Document indexed: {'_index': 'cve-index', '_id': 'wWBiX5cBOQ2nh5PuxeR9', '_version': 1, 'result': 'created', '_shards': {'total': 2, 'successful': 1, 'failed': 0}, '_seq_no': 0, '_primary_term': 1}\n"
     ]
    }
   ],
   "source": [
    "from elasticsearch import Elasticsearch\n",
    "\n",
    "client = Elasticsearch(\n",
    "    \"https://f0c40d3bde77471f83e6cace87537665.ap-southeast-1.aws.found.io\",\n",
    "    api_key=\"MU9oZlg1Y0JiN3JESEE4V0Y5aUg6N1lNZ0VaREtPU1pob3hYQWQtNU1zZw==\"\n",
    ")\n",
    "\n",
    "index_name = \"cve-index\"\n",
    "\n",
    "# Delete if exists (optional cleanup step for testing)\n",
    "if client.indices.exists(index=index_name):\n",
    "    client.indices.delete(index=index_name)\n",
    "\n",
    "# Create index with proper mapping\n",
    "mappings = {\n",
    "    \"mappings\": {\n",
    "        \"properties\": {\n",
    "            \"text\": {\n",
    "                \"properties\": {\n",
    "                    \"cve_id\": {\"type\": \"keyword\"},\n",
    "                    \"description\": {\"type\": \"text\"},\n",
    "                    \"severity\": {\"type\": \"keyword\"}\n",
    "                }\n",
    "            }\n",
    "        }\n",
    "    }\n",
    "}\n",
    "client.indices.create(index=index_name, body=mappings)\n",
    "\n",
    "# Sample document\n",
    "doc = {\n",
    "    \"text\": {\n",
    "        \"cve_id\": \"CVE-2024-12345\",\n",
    "        \"description\": \"This is a test CVE vulnerability.\",\n",
    "        \"severity\": \"High\"\n",
    "    }\n",
    "}\n",
    "\n",
    "# Index the document\n",
    "response = client.index(index=index_name, document=doc)\n",
    "print(\"Document indexed:\", response)"
   ]
  },
  {
   "cell_type": "markdown",
   "id": "c6fd4297-c4ca-4e0e-b026-f80d14212b62",
   "metadata": {},
   "source": [
    "POST /_security/api_key\n",
    "{\n",
    "  \"name\": \"my-api-key\",\n",
    "  \"role_descriptors\": {\n",
    "    \"my-role\": {\n",
    "      \"cluster\": [\"all\"],\n",
    "      \"index\": [\n",
    "        {\n",
    "          \"names\": [\"cve-index\"],\n",
    "          \"privileges\": [\"all\"]\n",
    "        }\n",
    "      ]\n",
    "    }\n",
    "  }\n",
    "}"
   ]
  }
 ],
 "metadata": {
  "kernelspec": {
   "display_name": "Python [conda env:py313]",
   "language": "python",
   "name": "conda-env-py313-py"
  },
  "language_info": {
   "codemirror_mode": {
    "name": "ipython",
    "version": 3
   },
   "file_extension": ".py",
   "mimetype": "text/x-python",
   "name": "python",
   "nbconvert_exporter": "python",
   "pygments_lexer": "ipython3",
   "version": "3.13.3"
  },
  "widgets": {
   "application/vnd.jupyter.widget-state+json": {
    "state": {},
    "version_major": 2,
    "version_minor": 0
   }
  }
 },
 "nbformat": 4,
 "nbformat_minor": 5
}
