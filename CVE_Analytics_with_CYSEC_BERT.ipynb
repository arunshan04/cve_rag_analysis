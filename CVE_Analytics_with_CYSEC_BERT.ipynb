{
 "cells": [
  {
   "cell_type": "code",
   "execution_count": 2,
   "id": "2f3ea1bb-cdae-4db3-a1d5-fd8d8e216232",
   "metadata": {},
   "outputs": [
    {
     "name": "stderr",
     "output_type": "stream",
     "text": [
      "/Volumes/Kingsman/AEN/anaconda3/envs/py313/lib/python3.13/site-packages/tqdm/auto.py:21: TqdmWarning: IProgress not found. Please update jupyter and ipywidgets. See https://ipywidgets.readthedocs.io/en/stable/user_install.html\n",
      "  from .autonotebook import tqdm as notebook_tqdm\n",
      "Device set to use mps:0\n"
     ]
    },
    {
     "name": "stdout",
     "output_type": "stream",
     "text": [
      "[{'score': 0.5349510312080383, 'token': 2058, 'token_str': 'over', 'sequence': 'the latest zero - day cve - 2025 - # # # # # exploits a buffer over'}, {'score': 0.23651579022407532, 'token': 24672, 'token_str': 'overrun', 'sequence': 'the latest zero - day cve - 2025 - # # # # # exploits a buffer overrun'}, {'score': 0.08804173767566681, 'token': 3091, 'token_str': 'length', 'sequence': 'the latest zero - day cve - 2025 - # # # # # exploits a buffer length'}, {'score': 0.01977766864001751, 'token': 2946, 'token_str': 'size', 'sequence': 'the latest zero - day cve - 2025 - # # # # # exploits a buffer size'}, {'score': 0.007776712998747826, 'token': 1999, 'token_str': 'in', 'sequence': 'the latest zero - day cve - 2025 - # # # # # exploits a buffer in'}]\n"
     ]
    }
   ],
   "source": [
    "from transformers import AutoTokenizer, AutoModelForMaskedLM, pipeline\n",
    "import torch\n",
    "\n",
    "model_name = \"markusbayer/CySecBERT\"\n",
    "tokenizer = AutoTokenizer.from_pretrained(model_name)\n",
    "model = AutoModelForMaskedLM.from_pretrained(model_name)\n",
    "\n",
    "# Example: Fill-mask\n",
    "fill = pipeline(\"fill-mask\", model=model, tokenizer=tokenizer)\n",
    "print(fill(\"The latest zero-day CVE-2025-##### exploits a buffer [MASK]\"))"
   ]
  },
  {
   "cell_type": "code",
   "execution_count": 4,
   "id": "4a59a23e-9cec-4f3b-809a-7d7dd156ca9d",
   "metadata": {},
   "outputs": [
    {
     "name": "stderr",
     "output_type": "stream",
     "text": [
      "Some weights of BertModel were not initialized from the model checkpoint at markusbayer/CySecBERT and are newly initialized: ['pooler.dense.bias', 'pooler.dense.weight']\n",
      "You should probably TRAIN this model on a down-stream task to be able to use it for predictions and inference.\n"
     ]
    }
   ],
   "source": [
    "from transformers import AutoTokenizer, AutoModel\n",
    "import torch\n",
    "\n",
    "model_name = \"markusbayer/CySecBERT\"\n",
    "tokenizer = AutoTokenizer.from_pretrained(model_name)\n",
    "model = AutoModel.from_pretrained(model_name)\n",
    "\n",
    "def embed_text(text):\n",
    "    inputs = tokenizer(text, return_tensors='pt', truncation=True, padding=True)\n",
    "    with torch.no_grad():\n",
    "        outputs = model(**inputs)\n",
    "    # Mean pooling over last hidden state\n",
    "    embeddings = outputs.last_hidden_state.mean(dim=1)\n",
    "    return embeddings\n",
    "\n",
    "query_vector = embed_text(\"What is the CVE related to RDP privilege escalation?\")"
   ]
  },
  {
   "cell_type": "code",
   "execution_count": 18,
   "id": "db6ea840-3d10-4f5c-95e7-f99509d9fd43",
   "metadata": {},
   "outputs": [
    {
     "data": {
      "text/plain": [
       "768"
      ]
     },
     "execution_count": 18,
     "metadata": {},
     "output_type": "execute_result"
    }
   ],
   "source": [
    "len(query_vector[0].tolist())"
   ]
  }
 ],
 "metadata": {
  "kernelspec": {
   "display_name": "Python [conda env:py313]",
   "language": "python",
   "name": "conda-env-py313-py"
  },
  "language_info": {
   "codemirror_mode": {
    "name": "ipython",
    "version": 3
   },
   "file_extension": ".py",
   "mimetype": "text/x-python",
   "name": "python",
   "nbconvert_exporter": "python",
   "pygments_lexer": "ipython3",
   "version": "3.13.3"
  },
  "widgets": {
   "application/vnd.jupyter.widget-state+json": {
    "state": {},
    "version_major": 2,
    "version_minor": 0
   }
  }
 },
 "nbformat": 4,
 "nbformat_minor": 5
}
